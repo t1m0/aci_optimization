{
 "cells": [
  {
   "cell_type": "code",
   "execution_count": null,
   "id": "a0583f0a",
   "metadata": {},
   "outputs": [],
   "source": [
    "import tensorflow\n",
    "import pygad.kerasga\n",
    "import numpy\n",
    "import pygad\n",
    "import os\n",
    "from sklearn.model_selection import train_test_split"
   ]
  },
  {
   "cell_type": "markdown",
   "id": "b72960db",
   "metadata": {},
   "source": [
    "# Base Methods"
   ]
  },
  {
   "cell_type": "code",
   "execution_count": null,
   "id": "618f1688",
   "metadata": {},
   "outputs": [],
   "source": [
    "def fitness_func(solution, sol_idx):\n",
    "    global train_data, train_labels, keras_ga, model\n",
    "    predictions = pygad.kerasga.predict(model=model, solution=solution, data=train_data)\n",
    "\n",
    "    ce = tensorflow.keras.losses.BinaryCrossentropy()\n",
    "    solution_fitness = 1.0 / (ce(train_labels, predictions).numpy() + 0.00000001)\n",
    "\n",
    "    return solution_fitness"
   ]
  },
  {
   "cell_type": "code",
   "execution_count": null,
   "id": "01017af1",
   "metadata": {},
   "outputs": [],
   "source": [
    "def callback_generation(ga_instance):\n",
    "    print(\"Generation = {generation}\".format(generation=ga_instance.generations_completed))\n",
    "    print(\"Fitness    = {fitness}\".format(fitness=ga_instance.best_solution()[1]))"
   ]
  },
  {
   "cell_type": "code",
   "execution_count": null,
   "id": "b1d86ef3",
   "metadata": {},
   "outputs": [],
   "source": [
    "def dir_train_test_split(split, directory):\n",
    "    file_paths = []\n",
    "    for fileName in os.listdir(directory):\n",
    "        file_paths.append(os.path.join(directory, fileName))\n",
    "    data = numpy.array(file_paths)\n",
    "    return train_test_split(data,test_size=split) "
   ]
  },
  {
   "cell_type": "code",
   "execution_count": null,
   "id": "7ab95c36",
   "metadata": {},
   "outputs": [],
   "source": [
    "def load_images(file_paths):\n",
    "    data = []\n",
    "    for filePath in list(file_paths):\n",
    "        img = tensorflow.keras.preprocessing.image.load_img(filePath, color_mode = \"grayscale\")\n",
    "        img_array = tensorflow.keras.preprocessing.image.img_to_array(img)\n",
    "        normalized_img = tensorflow.image.resize_with_crop_or_pad(img_array, 256, 256)\n",
    "        data.append(normalized_img)\n",
    "    return numpy.array(data)"
   ]
  },
  {
   "cell_type": "code",
   "execution_count": null,
   "id": "c58900b7",
   "metadata": {},
   "outputs": [],
   "source": [
    "def load_labels(file_paths):\n",
    "    labels = []\n",
    "    for path in file_paths:\n",
    "        if \"parkinson\" in path:\n",
    "            labels.append(1)\n",
    "        else:\n",
    "            labels.append(0)\n",
    "    return tensorflow.keras.utils.to_categorical(numpy.array(labels))"
   ]
  },
  {
   "cell_type": "code",
   "execution_count": null,
   "id": "17eddf82",
   "metadata": {},
   "outputs": [],
   "source": [
    "def build_keras_model():\n",
    "    model = tensorflow.keras.Sequential([\n",
    "        tensorflow.keras.layers.InputLayer(input_shape=(256, 256, 1)),\n",
    "        tensorflow.keras.layers.Conv2D(filters=12, kernel_size=(3, 3), activation=tensorflow.nn.relu),\n",
    "        tensorflow.keras.layers.MaxPooling2D(pool_size=(2, 2)),\n",
    "        tensorflow.keras.layers.Flatten(),\n",
    "        tensorflow.keras.layers.Dense(2, activation=\"softmax\")\n",
    "    ])\n",
    "    return model"
   ]
  },
  {
   "cell_type": "code",
   "execution_count": null,
   "id": "2c88a114",
   "metadata": {},
   "outputs": [],
   "source": [
    "def load_data():\n",
    "    parkinson_test, parkinson_train = dir_train_test_split(0.8, \"/Users/timo/Documents/code/fhnw/spiral-ml/spiral_drawings/parkinson\")\n",
    "    healthy_test, healthy_train = dir_train_test_split(0.8, \"/Users/timo/Documents/code/fhnw/spiral-ml/spiral_drawings/healthy\")\n",
    "\n",
    "    train = numpy.concatenate((parkinson_train, healthy_train))\n",
    "    test = numpy.concatenate((parkinson_test, healthy_test))\n",
    "\n",
    "    train_data = load_images(train)\n",
    "    test_data = load_images(test)\n",
    "    \n",
    "    train_labels = load_labels(train)\n",
    "    test_labels = load_labels(test)\n",
    "    return train_data, train_labels, test_data, test_labels"
   ]
  },
  {
   "cell_type": "markdown",
   "id": "7d11174b",
   "metadata": {},
   "source": [
    "# Load Data"
   ]
  },
  {
   "cell_type": "code",
   "execution_count": null,
   "id": "313ee8de",
   "metadata": {},
   "outputs": [],
   "source": [
    "train_data, train_labels, test_data, test_labels = load_data()"
   ]
  },
  {
   "cell_type": "code",
   "execution_count": null,
   "id": "c9c98227",
   "metadata": {},
   "outputs": [],
   "source": [
    "len(train_data)+len(test_data)"
   ]
  },
  {
   "cell_type": "markdown",
   "id": "97c9ed9f",
   "metadata": {},
   "source": [
    "# Base Image Classification"
   ]
  },
  {
   "cell_type": "code",
   "execution_count": null,
   "id": "2eee22cf",
   "metadata": {},
   "outputs": [],
   "source": [
    "simple_model = build_keras_model()\n",
    "simple_model.compile(optimizer='adam', loss=tensorflow.keras.losses.BinaryCrossentropy(), metrics=['accuracy'])\n",
    "\n",
    "simple_model.fit(\n",
    "    train_data,\n",
    "    train_labels,\n",
    "    validation_split=0.1,\n",
    "    epochs=10\n",
    ")"
   ]
  },
  {
   "cell_type": "code",
   "execution_count": null,
   "id": "a6d5b5fd",
   "metadata": {},
   "outputs": [],
   "source": [
    "_, baseline_model_accuracy = simple_model.evaluate(test_data, test_labels, verbose=0)\n",
    "baseline_model_accuracy"
   ]
  },
  {
   "cell_type": "markdown",
   "id": "0e3c630d",
   "metadata": {},
   "source": [
    "# Optimize CNN with genetic algorithm"
   ]
  },
  {
   "cell_type": "code",
   "execution_count": null,
   "id": "7e5fc317",
   "metadata": {},
   "outputs": [],
   "source": [
    "model = build_keras_model()\n",
    "\n",
    "keras_ga = pygad.kerasga.KerasGA(model=model,num_solutions=10)\n",
    "\n",
    "initial_population = keras_ga.population_weights \n",
    "\n",
    "ga_instance = pygad.GA(num_generations=200,\n",
    "                       num_parents_mating=3,\n",
    "                       initial_population=initial_population,\n",
    "                       fitness_func=fitness_func,\n",
    "                       on_generation=callback_generation,\n",
    "                       mutation_probability=0.40)\n",
    "\n",
    "ga_instance.run()"
   ]
  },
  {
   "cell_type": "markdown",
   "id": "1c67c198",
   "metadata": {},
   "source": [
    "Plot the evolution"
   ]
  },
  {
   "cell_type": "code",
   "execution_count": null,
   "id": "8b0b5775",
   "metadata": {
    "scrolled": true
   },
   "outputs": [],
   "source": [
    "plot = ga_instance.plot_fitness(title=\"PyGAD & Keras - Iteration vs. Fitness\", linewidth=4)"
   ]
  },
  {
   "cell_type": "markdown",
   "id": "24b0c6a4",
   "metadata": {},
   "source": [
    "Show the best solution"
   ]
  },
  {
   "cell_type": "code",
   "execution_count": null,
   "id": "c20c3979",
   "metadata": {},
   "outputs": [],
   "source": [
    "solution, solution_fitness, solution_idx = ga_instance.best_solution()\n",
    "print(\"Fitness value of the best solution = {solution_fitness}\".format(solution_fitness=solution_fitness))\n",
    "print(\"Index of the best solution : {solution_idx}\".format(solution_idx=solution_idx))"
   ]
  },
  {
   "cell_type": "markdown",
   "id": "aea58a71",
   "metadata": {},
   "source": [
    "Evaluate best solution"
   ]
  },
  {
   "cell_type": "code",
   "execution_count": null,
   "id": "ed910d16",
   "metadata": {},
   "outputs": [],
   "source": [
    "# Make predictions based on the best solution.\n",
    "predictions = pygad.kerasga.predict(model=model,solution=solution,data=test_data)\n",
    "\n",
    "\n",
    "# Calculate the categorical crossentropy for the trained model.\n",
    "cce = tensorflow.keras.losses.BinaryCrossentropy()\n",
    "print(\"Categorical Crossentropy : \", cce(test_labels, predictions).numpy())\n",
    "\n",
    "# Calculate the classification accuracy for the trained model.\n",
    "ca = tensorflow.keras.metrics.CategoricalAccuracy()\n",
    "ca.update_state(test_labels, predictions)\n",
    "accuracy = ca.result().numpy()\n",
    "print(\"Accuracy : \", accuracy)"
   ]
  },
  {
   "cell_type": "code",
   "execution_count": null,
   "id": "3a56c9f1",
   "metadata": {},
   "outputs": [],
   "source": []
  }
 ],
 "metadata": {
  "kernelspec": {
   "display_name": "Python 3.9 (ipykernel)",
   "language": "python",
   "name": "python3.9"
  },
  "language_info": {
   "codemirror_mode": {
    "name": "ipython",
    "version": 3
   },
   "file_extension": ".py",
   "mimetype": "text/x-python",
   "name": "python",
   "nbconvert_exporter": "python",
   "pygments_lexer": "ipython3",
   "version": "3.9.10"
  }
 },
 "nbformat": 4,
 "nbformat_minor": 5
}
