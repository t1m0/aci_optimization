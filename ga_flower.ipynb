{
 "cells": [
  {
   "cell_type": "code",
   "execution_count": null,
   "id": "a0583f0a",
   "metadata": {},
   "outputs": [],
   "source": [
    "import tensorflow\n",
    "import pygad.kerasga\n",
    "import numpy\n",
    "import pygad\n",
    "import os\n",
    "from sklearn.model_selection import train_test_split\n",
    "import pathlib"
   ]
  },
  {
   "cell_type": "code",
   "execution_count": null,
   "id": "0dddabbb",
   "metadata": {},
   "outputs": [],
   "source": [
    "batch_size = 32\n",
    "img_height = 180\n",
    "img_width = 180"
   ]
  },
  {
   "cell_type": "markdown",
   "id": "9c49f27b",
   "metadata": {},
   "source": [
    "# Load Data"
   ]
  },
  {
   "cell_type": "code",
   "execution_count": null,
   "id": "eb640eee",
   "metadata": {},
   "outputs": [],
   "source": [
    "dataset_url = \"https://storage.googleapis.com/download.tensorflow.org/example_images/flower_photos.tgz\"\n",
    "data_dir = tensorflow.keras.utils.get_file('flower_photos', origin=dataset_url, untar=True)\n",
    "data_dir = pathlib.Path(data_dir)"
   ]
  },
  {
   "cell_type": "code",
   "execution_count": null,
   "id": "8a5c2d68",
   "metadata": {},
   "outputs": [],
   "source": [
    "data_dir"
   ]
  },
  {
   "cell_type": "code",
   "execution_count": null,
   "id": "b104d64c",
   "metadata": {},
   "outputs": [],
   "source": [
    "len(list(data_dir.glob('*/*.jpg')))"
   ]
  },
  {
   "cell_type": "code",
   "execution_count": null,
   "id": "58311f8d",
   "metadata": {},
   "outputs": [],
   "source": [
    "def dir_train_test_split(split, directory):\n",
    "    file_paths = []\n",
    "    for fileName in os.listdir(directory):\n",
    "        file_paths.append(os.path.join(directory, fileName))\n",
    "    data = numpy.array(file_paths)\n",
    "    return train_test_split(data,test_size=split) "
   ]
  },
  {
   "cell_type": "code",
   "execution_count": null,
   "id": "0b3c2606",
   "metadata": {},
   "outputs": [],
   "source": [
    "def load_images(file_paths):\n",
    "    data = []\n",
    "    for filePath in list(file_paths):\n",
    "        img = tensorflow.keras.preprocessing.image.load_img(filePath)\n",
    "        img_array = tensorflow.keras.preprocessing.image.img_to_array(img)\n",
    "        normalized_img = tensorflow.image.resize_with_crop_or_pad(img_array, img_height, img_width)\n",
    "        data.append(normalized_img)\n",
    "    return numpy.array(data)"
   ]
  },
  {
   "cell_type": "code",
   "execution_count": null,
   "id": "00f01280",
   "metadata": {},
   "outputs": [],
   "source": [
    "def load_labels(file_paths):\n",
    "    labels = []\n",
    "    for path in file_paths:\n",
    "        if \"daisy\" in path:\n",
    "            labels.append(0)\n",
    "        elif \"dandelion\" in path:\n",
    "            labels.append(1)\n",
    "        elif \"roses\" in path:\n",
    "            labels.append(2)\n",
    "        elif \"sunflowers\" in path:\n",
    "            labels.append(3)\n",
    "        elif \"tulips\" in path:\n",
    "            labels.append(4)\n",
    "        else:\n",
    "            labels.append(6)\n",
    "    return tensorflow.keras.utils.to_categorical(numpy.array(labels))"
   ]
  },
  {
   "cell_type": "code",
   "execution_count": null,
   "id": "a0aee6ae",
   "metadata": {},
   "outputs": [],
   "source": [
    "train = []\n",
    "test = []\n",
    "for label in [\"daisy\", \"dandelion\", \"roses\", \"sunflowers\", \"tulips\"]:\n",
    "    current_path = pathlib.Path.joinpath(data_dir, label)\n",
    "    current_test, current_train = dir_train_test_split(0.8, current_path)\n",
    "    train = numpy.concatenate((train, current_train))\n",
    "    test = numpy.concatenate((test, current_test))\n",
    "\n",
    "    \n",
    "train_data = load_images(train)\n",
    "test_data = load_images(test)\n",
    "train_labels = load_labels(train)\n",
    "test_labels = load_labels(test)\n"
   ]
  },
  {
   "cell_type": "code",
   "execution_count": null,
   "id": "e2a68fec",
   "metadata": {},
   "outputs": [],
   "source": [
    "train_data.shape"
   ]
  },
  {
   "cell_type": "code",
   "execution_count": null,
   "id": "72448029",
   "metadata": {},
   "outputs": [],
   "source": [
    "train_labels.shape"
   ]
  },
  {
   "cell_type": "markdown",
   "id": "59fe3680",
   "metadata": {},
   "source": [
    "# Tensorflow Model"
   ]
  },
  {
   "cell_type": "code",
   "execution_count": null,
   "id": "a314382e",
   "metadata": {},
   "outputs": [],
   "source": [
    "def setup_model(class_names):\n",
    "    num_classes = len(class_names)\n",
    "\n",
    "    model = tensorflow.keras.models.Sequential([\n",
    "      tensorflow.keras.layers.Rescaling(1./255, input_shape=(img_height, img_width, 3)),\n",
    "      tensorflow.keras.layers.Conv2D(16, 3, padding='same', activation='relu'),\n",
    "      tensorflow.keras.layers.MaxPooling2D(),\n",
    "      tensorflow.keras.layers.Conv2D(32, 3, padding='same', activation='relu'),\n",
    "      tensorflow.keras.layers.MaxPooling2D(),\n",
    "      tensorflow.keras.layers.Conv2D(64, 3, padding='same', activation='relu'),\n",
    "      tensorflow.keras.layers.MaxPooling2D(),\n",
    "      tensorflow.keras.layers.Flatten(),\n",
    "      tensorflow.keras.layers.Dense(128, activation='relu'),\n",
    "      tensorflow.keras.layers.Dense(num_classes)\n",
    "    ])\n",
    "    \n",
    "    return model"
   ]
  },
  {
   "cell_type": "markdown",
   "id": "1ebb7d31",
   "metadata": {},
   "source": [
    "# Simple Model Training"
   ]
  },
  {
   "cell_type": "code",
   "execution_count": null,
   "id": "b60179b7",
   "metadata": {},
   "outputs": [],
   "source": [
    "simple_model = setup_model(class_names)\n",
    "simple_model.compile(optimizer='adam',\n",
    "    loss=tensorflow.keras.losses.CategoricalCrossentropy(),\n",
    "    metrics=['accuracy'])\n",
    "\n",
    "simple_model.fit(\n",
    "    train_data,\n",
    "    train_labels,\n",
    "    validation_split=0.1,\n",
    "    epochs=10\n",
    ")"
   ]
  },
  {
   "cell_type": "code",
   "execution_count": null,
   "id": "7c5463f9",
   "metadata": {},
   "outputs": [],
   "source": [
    "_, baseline_model_accuracy = simple_model.evaluate(test_data, test_labels, verbose=0)\n",
    "baseline_model_accuracy"
   ]
  },
  {
   "cell_type": "markdown",
   "id": "b72960db",
   "metadata": {},
   "source": [
    "# Genetic Algorithm Optimized Classification"
   ]
  },
  {
   "cell_type": "code",
   "execution_count": null,
   "id": "618f1688",
   "metadata": {},
   "outputs": [],
   "source": [
    "def fitness_func(solution, sol_idx):\n",
    "    global train_data, train_labels, keras_ga, model\n",
    "\n",
    "    predictions = pygad.kerasga.predict(model=model, solution=solution, data=train_data)\n",
    "\n",
    "    ce = tensorflow.keras.losses.CategoricalCrossentropy()\n",
    "    solution_fitness = 1.0 / (ce(train_labels, predictions).numpy() + 0.00000001)\n",
    "\n",
    "    return solution_fitness"
   ]
  },
  {
   "cell_type": "code",
   "execution_count": null,
   "id": "01017af1",
   "metadata": {},
   "outputs": [],
   "source": [
    "def callback_generation(ga_instance):\n",
    "    print(\"Generation = {generation}\".format(generation=ga_instance.generations_completed))\n",
    "    print(\"Fitness    = {fitness}\".format(fitness=ga_instance.best_solution()[1]))"
   ]
  },
  {
   "cell_type": "code",
   "execution_count": null,
   "id": "7e5fc317",
   "metadata": {},
   "outputs": [],
   "source": [
    "ga_model = setup_model(class_names)\n",
    "\n",
    "keras_ga = pygad.kerasga.KerasGA(model=ga_model,num_solutions=10)\n",
    "\n",
    "num_generations = 100 \n",
    "num_parents_mating = 5 \n",
    "initial_population = keras_ga.population_weights \n",
    "\n",
    "ga_instance = pygad.GA(num_generations=num_generations,\n",
    "                       num_parents_mating=num_parents_mating,\n",
    "                       initial_population=initial_population,\n",
    "                       fitness_func=fitness_func,\n",
    "                       on_generation=callback_generation)\n",
    "\n",
    "ga_instance.run()"
   ]
  },
  {
   "cell_type": "code",
   "execution_count": null,
   "id": "8b0b5775",
   "metadata": {},
   "outputs": [],
   "source": [
    "ga_instance.plot_fitness(title=\"PyGAD & Keras - Iteration vs. Fitness\", linewidth=4)"
   ]
  },
  {
   "cell_type": "code",
   "execution_count": null,
   "id": "c20c3979",
   "metadata": {},
   "outputs": [],
   "source": [
    "solution, solution_fitness, solution_idx = ga_instance.best_solution()\n",
    "print(\"Fitness value of the best solution = {solution_fitness}\".format(solution_fitness=solution_fitness))\n",
    "print(\"Index of the best solution : {solution_idx}\".format(solution_idx=solution_idx))"
   ]
  },
  {
   "cell_type": "code",
   "execution_count": null,
   "id": "ed910d16",
   "metadata": {},
   "outputs": [],
   "source": [
    "predictions = pygad.kerasga.predict(model=model,solution=solution,data=test_data)\n",
    "\n",
    "cce = tensorflow.keras.losses.CategoricalCrossentropy()\n",
    "print(\"Categorical Crossentropy : \", cce(test_labels, predictions).numpy())\n",
    "\n",
    "ca = tensorflow.keras.metrics.CategoricalAccuracy()\n",
    "ca.update_state(test_labels, predictions)\n",
    "accuracy = ca.result().numpy()\n",
    "print(\"Accuracy : \", accuracy)"
   ]
  },
  {
   "cell_type": "code",
   "execution_count": null,
   "id": "3a56c9f1",
   "metadata": {},
   "outputs": [],
   "source": []
  }
 ],
 "metadata": {
  "kernelspec": {
   "display_name": "Python 3.9 (ipykernel)",
   "language": "python",
   "name": "python3.9"
  },
  "language_info": {
   "codemirror_mode": {
    "name": "ipython",
    "version": 3
   },
   "file_extension": ".py",
   "mimetype": "text/x-python",
   "name": "python",
   "nbconvert_exporter": "python",
   "pygments_lexer": "ipython3",
   "version": "3.9.10"
  }
 },
 "nbformat": 4,
 "nbformat_minor": 5
}
